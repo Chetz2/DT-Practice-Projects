{
 "cells": [
  {
   "cell_type": "markdown",
   "id": "2fe5459a",
   "metadata": {},
   "source": [
    "### Practice Project 3\n",
    "\n",
    "### Wine-Quality "
   ]
  },
  {
   "cell_type": "code",
   "execution_count": 30,
   "id": "e0abb1fb",
   "metadata": {
    "_cell_guid": "b1076dfc-b9ad-4769-8c92-a6c4dae69d19",
    "_uuid": "8f2839f25d086af736a60e9eeb907d3b93b6e0e5",
    "execution": {
     "iopub.execute_input": "2021-10-05T18:14:25.108001Z",
     "iopub.status.busy": "2021-10-05T18:14:25.107351Z",
     "iopub.status.idle": "2021-10-05T18:14:26.576374Z",
     "shell.execute_reply": "2021-10-05T18:14:26.575330Z",
     "shell.execute_reply.started": "2021-10-05T18:11:04.450415Z"
    },
    "papermill": {
     "duration": 1.505975,
     "end_time": "2021-10-05T18:14:26.576570",
     "exception": false,
     "start_time": "2021-10-05T18:14:25.070595",
     "status": "completed"
    },
    "tags": []
   },
   "outputs": [],
   "source": [
    "#import necessay libraries\n",
    "import pandas as pd\n",
    "import seaborn as sns\n",
    "import numpy as np\n",
    "import matplotlib.pyplot as plt\n",
    "from sklearn.ensemble import RandomForestClassifier\n",
    "from sklearn.svm import SVC\n",
    "# from sklearn.linear_model import SGDClassifier\n",
    "from sklearn.metrics import confusion_matrix, classification_report\n",
    "from sklearn.preprocessing import StandardScaler, LabelEncoder\n",
    "from sklearn.model_selection import train_test_split, GridSearchCV, cross_val_score\n",
    "%matplotlib inline\n",
    "from sklearn.linear_model import LinearRegression\n",
    "\n",
    "import warnings\n",
    "warnings.filterwarnings('ignore')"
   ]
  },
  {
   "cell_type": "code",
   "execution_count": 4,
   "id": "b58440fa",
   "metadata": {
    "execution": {
     "iopub.execute_input": "2021-10-05T18:14:26.621854Z",
     "iopub.status.busy": "2021-10-05T18:14:26.621293Z",
     "iopub.status.idle": "2021-10-05T18:14:26.651106Z",
     "shell.execute_reply": "2021-10-05T18:14:26.650650Z",
     "shell.execute_reply.started": "2021-10-05T18:12:19.351816Z"
    },
    "papermill": {
     "duration": 0.055023,
     "end_time": "2021-10-05T18:14:26.651313",
     "exception": false,
     "start_time": "2021-10-05T18:14:26.596290",
     "status": "completed"
    },
    "tags": []
   },
   "outputs": [],
   "source": [
    "wine = pd.read_csv('3.winequality-red.csv')"
   ]
  },
  {
   "cell_type": "code",
   "execution_count": 5,
   "id": "b0f0b35c",
   "metadata": {
    "execution": {
     "iopub.execute_input": "2021-10-05T18:14:26.700430Z",
     "iopub.status.busy": "2021-10-05T18:14:26.699790Z",
     "iopub.status.idle": "2021-10-05T18:14:26.720638Z",
     "shell.execute_reply": "2021-10-05T18:14:26.720139Z",
     "shell.execute_reply.started": "2021-10-05T18:12:21.730441Z"
    },
    "papermill": {
     "duration": 0.049453,
     "end_time": "2021-10-05T18:14:26.720758",
     "exception": false,
     "start_time": "2021-10-05T18:14:26.671305",
     "status": "completed"
    },
    "tags": []
   },
   "outputs": [
    {
     "data": {
      "text/html": [
       "<div>\n",
       "<style scoped>\n",
       "    .dataframe tbody tr th:only-of-type {\n",
       "        vertical-align: middle;\n",
       "    }\n",
       "\n",
       "    .dataframe tbody tr th {\n",
       "        vertical-align: top;\n",
       "    }\n",
       "\n",
       "    .dataframe thead th {\n",
       "        text-align: right;\n",
       "    }\n",
       "</style>\n",
       "<table border=\"1\" class=\"dataframe\">\n",
       "  <thead>\n",
       "    <tr style=\"text-align: right;\">\n",
       "      <th></th>\n",
       "      <th>fixed acidity</th>\n",
       "      <th>volatile acidity</th>\n",
       "      <th>citric acid</th>\n",
       "      <th>residual sugar</th>\n",
       "      <th>chlorides</th>\n",
       "      <th>free sulfur dioxide</th>\n",
       "      <th>total sulfur dioxide</th>\n",
       "      <th>density</th>\n",
       "      <th>pH</th>\n",
       "      <th>sulphates</th>\n",
       "      <th>alcohol</th>\n",
       "      <th>quality</th>\n",
       "    </tr>\n",
       "  </thead>\n",
       "  <tbody>\n",
       "    <tr>\n",
       "      <th>0</th>\n",
       "      <td>7.4</td>\n",
       "      <td>0.70</td>\n",
       "      <td>0.00</td>\n",
       "      <td>1.9</td>\n",
       "      <td>0.076</td>\n",
       "      <td>11.0</td>\n",
       "      <td>34.0</td>\n",
       "      <td>0.9978</td>\n",
       "      <td>3.51</td>\n",
       "      <td>0.56</td>\n",
       "      <td>9.4</td>\n",
       "      <td>5</td>\n",
       "    </tr>\n",
       "    <tr>\n",
       "      <th>1</th>\n",
       "      <td>7.8</td>\n",
       "      <td>0.88</td>\n",
       "      <td>0.00</td>\n",
       "      <td>2.6</td>\n",
       "      <td>0.098</td>\n",
       "      <td>25.0</td>\n",
       "      <td>67.0</td>\n",
       "      <td>0.9968</td>\n",
       "      <td>3.20</td>\n",
       "      <td>0.68</td>\n",
       "      <td>9.8</td>\n",
       "      <td>5</td>\n",
       "    </tr>\n",
       "    <tr>\n",
       "      <th>2</th>\n",
       "      <td>7.8</td>\n",
       "      <td>0.76</td>\n",
       "      <td>0.04</td>\n",
       "      <td>2.3</td>\n",
       "      <td>0.092</td>\n",
       "      <td>15.0</td>\n",
       "      <td>54.0</td>\n",
       "      <td>0.9970</td>\n",
       "      <td>3.26</td>\n",
       "      <td>0.65</td>\n",
       "      <td>9.8</td>\n",
       "      <td>5</td>\n",
       "    </tr>\n",
       "    <tr>\n",
       "      <th>3</th>\n",
       "      <td>11.2</td>\n",
       "      <td>0.28</td>\n",
       "      <td>0.56</td>\n",
       "      <td>1.9</td>\n",
       "      <td>0.075</td>\n",
       "      <td>17.0</td>\n",
       "      <td>60.0</td>\n",
       "      <td>0.9980</td>\n",
       "      <td>3.16</td>\n",
       "      <td>0.58</td>\n",
       "      <td>9.8</td>\n",
       "      <td>6</td>\n",
       "    </tr>\n",
       "    <tr>\n",
       "      <th>4</th>\n",
       "      <td>7.4</td>\n",
       "      <td>0.70</td>\n",
       "      <td>0.00</td>\n",
       "      <td>1.9</td>\n",
       "      <td>0.076</td>\n",
       "      <td>11.0</td>\n",
       "      <td>34.0</td>\n",
       "      <td>0.9978</td>\n",
       "      <td>3.51</td>\n",
       "      <td>0.56</td>\n",
       "      <td>9.4</td>\n",
       "      <td>5</td>\n",
       "    </tr>\n",
       "  </tbody>\n",
       "</table>\n",
       "</div>"
      ],
      "text/plain": [
       "   fixed acidity  volatile acidity  citric acid  residual sugar  chlorides  \\\n",
       "0            7.4              0.70         0.00             1.9      0.076   \n",
       "1            7.8              0.88         0.00             2.6      0.098   \n",
       "2            7.8              0.76         0.04             2.3      0.092   \n",
       "3           11.2              0.28         0.56             1.9      0.075   \n",
       "4            7.4              0.70         0.00             1.9      0.076   \n",
       "\n",
       "   free sulfur dioxide  total sulfur dioxide  density    pH  sulphates  \\\n",
       "0                 11.0                  34.0   0.9978  3.51       0.56   \n",
       "1                 25.0                  67.0   0.9968  3.20       0.68   \n",
       "2                 15.0                  54.0   0.9970  3.26       0.65   \n",
       "3                 17.0                  60.0   0.9980  3.16       0.58   \n",
       "4                 11.0                  34.0   0.9978  3.51       0.56   \n",
       "\n",
       "   alcohol  quality  \n",
       "0      9.4        5  \n",
       "1      9.8        5  \n",
       "2      9.8        5  \n",
       "3      9.8        6  \n",
       "4      9.4        5  "
      ]
     },
     "execution_count": 5,
     "metadata": {},
     "output_type": "execute_result"
    }
   ],
   "source": [
    "wine.head()"
   ]
  },
  {
   "cell_type": "code",
   "execution_count": 6,
   "id": "d2b2b8c0",
   "metadata": {
    "execution": {
     "iopub.execute_input": "2021-10-05T18:14:26.788354Z",
     "iopub.status.busy": "2021-10-05T18:14:26.787823Z",
     "iopub.status.idle": "2021-10-05T18:14:26.793260Z",
     "shell.execute_reply": "2021-10-05T18:14:26.792744Z",
     "shell.execute_reply.started": "2021-10-05T18:12:24.568866Z"
    },
    "papermill": {
     "duration": 0.051489,
     "end_time": "2021-10-05T18:14:26.793378",
     "exception": false,
     "start_time": "2021-10-05T18:14:26.741889",
     "status": "completed"
    },
    "tags": []
   },
   "outputs": [
    {
     "name": "stdout",
     "output_type": "stream",
     "text": [
      "<class 'pandas.core.frame.DataFrame'>\n",
      "RangeIndex: 1599 entries, 0 to 1598\n",
      "Data columns (total 12 columns):\n",
      " #   Column                Non-Null Count  Dtype  \n",
      "---  ------                --------------  -----  \n",
      " 0   fixed acidity         1599 non-null   float64\n",
      " 1   volatile acidity      1599 non-null   float64\n",
      " 2   citric acid           1599 non-null   float64\n",
      " 3   residual sugar        1599 non-null   float64\n",
      " 4   chlorides             1599 non-null   float64\n",
      " 5   free sulfur dioxide   1599 non-null   float64\n",
      " 6   total sulfur dioxide  1599 non-null   float64\n",
      " 7   density               1599 non-null   float64\n",
      " 8   pH                    1599 non-null   float64\n",
      " 9   sulphates             1599 non-null   float64\n",
      " 10  alcohol               1599 non-null   float64\n",
      " 11  quality               1599 non-null   int64  \n",
      "dtypes: float64(11), int64(1)\n",
      "memory usage: 150.0 KB\n"
     ]
    }
   ],
   "source": [
    "wine.info()"
   ]
  },
  {
   "cell_type": "markdown",
   "id": "7f6c37a2",
   "metadata": {
    "papermill": {
     "duration": 0.024478,
     "end_time": "2021-10-05T18:14:26.844308",
     "exception": false,
     "start_time": "2021-10-05T18:14:26.819830",
     "status": "completed"
    },
    "tags": []
   },
   "source": [
    "#### Observations\n",
    "- Dataset dont have null values,All the data is of numeric type,There is no categorical variables in the dataset "
   ]
  },
  {
   "cell_type": "code",
   "execution_count": 7,
   "id": "9d5e1ffc",
   "metadata": {
    "execution": {
     "iopub.execute_input": "2021-10-05T18:14:26.905430Z",
     "iopub.status.busy": "2021-10-05T18:14:26.904162Z",
     "iopub.status.idle": "2021-10-05T18:14:26.907924Z",
     "shell.execute_reply": "2021-10-05T18:14:26.908282Z",
     "shell.execute_reply.started": "2021-10-05T18:12:28.473912Z"
    },
    "papermill": {
     "duration": 0.036952,
     "end_time": "2021-10-05T18:14:26.908431",
     "exception": false,
     "start_time": "2021-10-05T18:14:26.871479",
     "status": "completed"
    },
    "tags": []
   },
   "outputs": [
    {
     "data": {
      "text/plain": [
       "(1599, 12)"
      ]
     },
     "execution_count": 7,
     "metadata": {},
     "output_type": "execute_result"
    }
   ],
   "source": [
    "wine.shape"
   ]
  },
  {
   "cell_type": "code",
   "execution_count": 8,
   "id": "943b4041",
   "metadata": {
    "execution": {
     "iopub.execute_input": "2021-10-05T18:14:26.955585Z",
     "iopub.status.busy": "2021-10-05T18:14:26.954449Z",
     "iopub.status.idle": "2021-10-05T18:14:27.320740Z",
     "shell.execute_reply": "2021-10-05T18:14:27.320157Z",
     "shell.execute_reply.started": "2021-10-05T18:12:30.630495Z"
    },
    "papermill": {
     "duration": 0.391532,
     "end_time": "2021-10-05T18:14:27.320872",
     "exception": false,
     "start_time": "2021-10-05T18:14:26.929340",
     "status": "completed"
    },
    "tags": []
   },
   "outputs": [
    {
     "data": {
      "text/plain": [
       "<AxesSubplot:xlabel='quality', ylabel='fixed acidity'>"
      ]
     },
     "execution_count": 8,
     "metadata": {},
     "output_type": "execute_result"
    },
    {
     "data": {
      "image/png": "[encoded data removed]",
      "text/plain": [
       "<Figure size 432x288 with 1 Axes>"
      ]
     },
     "metadata": {
      "needs_background": "light"
     },
     "output_type": "display_data"
    }
   ],
   "source": [
    "import seaborn\n",
    "seaborn.barplot(x ='quality', y ='fixed acidity', data = wine)"
   ]
  },
  {
   "cell_type": "code",
   "execution_count": 9,
   "id": "b8fac1bb",
   "metadata": {
    "execution": {
     "iopub.execute_input": "2021-10-05T18:14:27.392073Z",
     "iopub.status.busy": "2021-10-05T18:14:27.391375Z",
     "iopub.status.idle": "2021-10-05T18:14:27.663880Z",
     "shell.execute_reply": "2021-10-05T18:14:27.663013Z",
     "shell.execute_reply.started": "2021-10-05T18:12:32.973580Z"
    },
    "papermill": {
     "duration": 0.310578,
     "end_time": "2021-10-05T18:14:27.664017",
     "exception": false,
     "start_time": "2021-10-05T18:14:27.353439",
     "status": "completed"
    },
    "tags": []
   },
   "outputs": [
    {
     "data": {
      "text/plain": [
       "<AxesSubplot:xlabel='quality', ylabel='volatile acidity'>"
      ]
     },
     "execution_count": 9,
     "metadata": {},
     "output_type": "execute_result"
    },
    {
     "data": {
      "image/png": "[encoded data removed]",
      "text/plain": [
       "<Figure size 432x288 with 1 Axes>"
      ]
     },
     "metadata": {
      "needs_background": "light"
     },
     "output_type": "display_data"
    }
   ],
   "source": [
    "seaborn.barplot(x = 'quality', y = 'volatile acidity', data = wine)"
   ]
  },
  {
   "cell_type": "code",
   "execution_count": 10,
   "id": "76e720a9",
   "metadata": {
    "execution": {
     "iopub.execute_input": "2021-10-05T18:14:27.718853Z",
     "iopub.status.busy": "2021-10-05T18:14:27.713590Z",
     "iopub.status.idle": "2021-10-05T18:14:28.091712Z",
     "shell.execute_reply": "2021-10-05T18:14:28.091009Z",
     "shell.execute_reply.started": "2021-10-05T18:12:35.172655Z"
    },
    "papermill": {
     "duration": 0.403047,
     "end_time": "2021-10-05T18:14:28.091850",
     "exception": false,
     "start_time": "2021-10-05T18:14:27.688803",
     "status": "completed"
    },
    "tags": []
   },
   "outputs": [
    {
     "data": {
      "text/plain": [
       "<AxesSubplot:xlabel='quality', ylabel='citric acid'>"
      ]
     },
     "execution_count": 10,
     "metadata": {},
     "output_type": "execute_result"
    },
    {
     "data": {
      "image/png": "[encoded data removed]",
      "text/plain": [
       "<Figure size 432x288 with 1 Axes>"
      ]
     },
     "metadata": {
      "needs_background": "light"
     },
     "output_type": "display_data"
    }
   ],
   "source": [
    "seaborn.barplot(x = 'quality', y = 'citric acid', data = wine)"
   ]
  },
  {
   "cell_type": "code",
   "execution_count": 11,
   "id": "9901a515",
   "metadata": {
    "execution": {
     "iopub.execute_input": "2021-10-05T18:14:28.173452Z",
     "iopub.status.busy": "2021-10-05T18:14:28.169778Z",
     "iopub.status.idle": "2021-10-05T18:14:28.434271Z",
     "shell.execute_reply": "2021-10-05T18:14:28.433358Z",
     "shell.execute_reply.started": "2021-10-05T18:12:37.503172Z"
    },
    "papermill": {
     "duration": 0.317995,
     "end_time": "2021-10-05T18:14:28.434403",
     "exception": false,
     "start_time": "2021-10-05T18:14:28.116408",
     "status": "completed"
    },
    "tags": []
   },
   "outputs": [
    {
     "data": {
      "text/plain": [
       "<AxesSubplot:xlabel='quality', ylabel='residual sugar'>"
      ]
     },
     "execution_count": 11,
     "metadata": {},
     "output_type": "execute_result"
    },
    {
     "data": {
      "image/png": "[encoded data removed]",
      "text/plain": [
       "<Figure size 432x288 with 1 Axes>"
      ]
     },
     "metadata": {
      "needs_background": "light"
     },
     "output_type": "display_data"
    }
   ],
   "source": [
    "seaborn.barplot(x = 'quality', y = 'residual sugar', data = wine)"
   ]
  },
  {
   "cell_type": "code",
   "execution_count": 12,
   "id": "62b0bfc0",
   "metadata": {
    "execution": {
     "iopub.execute_input": "2021-10-05T18:14:28.488769Z",
     "iopub.status.busy": "2021-10-05T18:14:28.486201Z",
     "iopub.status.idle": "2021-10-05T18:14:28.784707Z",
     "shell.execute_reply": "2021-10-05T18:14:28.784042Z",
     "shell.execute_reply.started": "2021-10-05T18:12:39.810769Z"
    },
    "papermill": {
     "duration": 0.326767,
     "end_time": "2021-10-05T18:14:28.784841",
     "exception": false,
     "start_time": "2021-10-05T18:14:28.458074",
     "status": "completed"
    },
    "tags": []
   },
   "outputs": [
    {
     "data": {
      "text/plain": [
       "<AxesSubplot:xlabel='quality', ylabel='chlorides'>"
      ]
     },
     "execution_count": 12,
     "metadata": {},
     "output_type": "execute_result"
    },
    {
     "data": {
      "image/png": "[encoded data removed]",
      "text/plain": [
       "<Figure size 432x288 with 1 Axes>"
      ]
     },
     "metadata": {
      "needs_background": "light"
     },
     "output_type": "display_data"
    }
   ],
   "source": [
    "seaborn.barplot(x = 'quality', y = 'chlorides', data = wine)"
   ]
  },
  {
   "cell_type": "code",
   "execution_count": 13,
   "id": "f6f84bb1",
   "metadata": {
    "execution": {
     "iopub.execute_input": "2021-10-05T18:14:28.841000Z",
     "iopub.status.busy": "2021-10-05T18:14:28.840229Z",
     "iopub.status.idle": "2021-10-05T18:14:29.220090Z",
     "shell.execute_reply": "2021-10-05T18:14:29.219637Z",
     "shell.execute_reply.started": "2021-10-05T18:12:42.278987Z"
    },
    "papermill": {
     "duration": 0.409633,
     "end_time": "2021-10-05T18:14:29.220211",
     "exception": false,
     "start_time": "2021-10-05T18:14:28.810578",
     "status": "completed"
    },
    "tags": []
   },
   "outputs": [
    {
     "data": {
      "text/plain": [
       "<AxesSubplot:xlabel='quality', ylabel='free sulfur dioxide'>"
      ]
     },
     "execution_count": 13,
     "metadata": {},
     "output_type": "execute_result"
    },
    {
     "data": {
      "image/png": "[encoded data removed]",
      "text/plain": [
       "<Figure size 432x288 with 1 Axes>"
      ]
     },
     "metadata": {
      "needs_background": "light"
     },
     "output_type": "display_data"
    }
   ],
   "source": [
    "seaborn.barplot(x = 'quality', y = 'free sulfur dioxide', data = wine)"
   ]
  },
  {
   "cell_type": "code",
   "execution_count": 14,
   "id": "c4c5f70f",
   "metadata": {
    "execution": {
     "iopub.execute_input": "2021-10-05T18:14:29.278337Z",
     "iopub.status.busy": "2021-10-05T18:14:29.277367Z",
     "iopub.status.idle": "2021-10-05T18:14:29.649582Z",
     "shell.execute_reply": "2021-10-05T18:14:29.648983Z",
     "shell.execute_reply.started": "2021-10-05T18:12:44.616989Z"
    },
    "papermill": {
     "duration": 0.403952,
     "end_time": "2021-10-05T18:14:29.649713",
     "exception": false,
     "start_time": "2021-10-05T18:14:29.245761",
     "status": "completed"
    },
    "tags": []
   },
   "outputs": [
    {
     "data": {
      "text/plain": [
       "<AxesSubplot:xlabel='quality', ylabel='total sulfur dioxide'>"
      ]
     },
     "execution_count": 14,
     "metadata": {},
     "output_type": "execute_result"
    },
    {
     "data": {
      "image/png": "[encoded data removed]",
      "text/plain": [
       "<Figure size 432x288 with 1 Axes>"
      ]
     },
     "metadata": {
      "needs_background": "light"
     },
     "output_type": "display_data"
    }
   ],
   "source": [
    "seaborn.barplot(x = 'quality', y = 'total sulfur dioxide', data = wine)"
   ]
  },
  {
   "cell_type": "code",
   "execution_count": 15,
   "id": "0d69bd1d",
   "metadata": {
    "execution": {
     "iopub.execute_input": "2021-10-05T18:14:29.709322Z",
     "iopub.status.busy": "2021-10-05T18:14:29.708833Z",
     "iopub.status.idle": "2021-10-05T18:14:29.998800Z",
     "shell.execute_reply": "2021-10-05T18:14:29.999181Z",
     "shell.execute_reply.started": "2021-10-05T18:12:46.789733Z"
    },
    "papermill": {
     "duration": 0.322265,
     "end_time": "2021-10-05T18:14:29.999324",
     "exception": false,
     "start_time": "2021-10-05T18:14:29.677059",
     "status": "completed"
    },
    "tags": []
   },
   "outputs": [
    {
     "data": {
      "text/plain": [
       "<AxesSubplot:xlabel='quality', ylabel='sulphates'>"
      ]
     },
     "execution_count": 15,
     "metadata": {},
     "output_type": "execute_result"
    },
    {
     "data": {
      "image/png": "[encoded data removed]",
      "text/plain": [
       "<Figure size 432x288 with 1 Axes>"
      ]
     },
     "metadata": {
      "needs_background": "light"
     },
     "output_type": "display_data"
    }
   ],
   "source": [
    "seaborn.barplot(x = 'quality', y = 'sulphates', data = wine)"
   ]
  },
  {
   "cell_type": "code",
   "execution_count": 16,
   "id": "d92b88c8",
   "metadata": {
    "execution": {
     "iopub.execute_input": "2021-10-05T18:14:30.061538Z",
     "iopub.status.busy": "2021-10-05T18:14:30.060988Z",
     "iopub.status.idle": "2021-10-05T18:14:30.426694Z",
     "shell.execute_reply": "2021-10-05T18:14:30.427138Z",
     "shell.execute_reply.started": "2021-10-05T18:12:48.998244Z"
    },
    "papermill": {
     "duration": 0.400781,
     "end_time": "2021-10-05T18:14:30.427323",
     "exception": false,
     "start_time": "2021-10-05T18:14:30.026542",
     "status": "completed"
    },
    "tags": []
   },
   "outputs": [
    {
     "data": {
      "text/plain": [
       "<AxesSubplot:xlabel='quality', ylabel='alcohol'>"
      ]
     },
     "execution_count": 16,
     "metadata": {},
     "output_type": "execute_result"
    },
    {
     "data": {
      "image/png": "[encoded data removed]",
      "text/plain": [
       "<Figure size 432x288 with 1 Axes>"
      ]
     },
     "metadata": {
      "needs_background": "light"
     },
     "output_type": "display_data"
    }
   ],
   "source": [
    "seaborn.barplot(x = 'quality', y = 'alcohol', data = wine)"
   ]
  },
  {
   "cell_type": "markdown",
   "id": "c9d2b356",
   "metadata": {
    "papermill": {
     "duration": 0.027617,
     "end_time": "2021-10-05T18:14:30.484779",
     "exception": false,
     "start_time": "2021-10-05T18:14:30.457162",
     "status": "completed"
    },
    "tags": []
   },
   "source": [
    "#### Preprocessing of data"
   ]
  },
  {
   "cell_type": "code",
   "execution_count": 17,
   "id": "ddb39557",
   "metadata": {
    "execution": {
     "iopub.execute_input": "2021-10-05T18:14:30.547914Z",
     "iopub.status.busy": "2021-10-05T18:14:30.547330Z",
     "iopub.status.idle": "2021-10-05T18:14:31.408992Z",
     "shell.execute_reply": "2021-10-05T18:14:31.409350Z",
     "shell.execute_reply.started": "2021-10-05T18:12:52.920620Z"
    },
    "papermill": {
     "duration": 0.897192,
     "end_time": "2021-10-05T18:14:31.409485",
     "exception": false,
     "start_time": "2021-10-05T18:14:30.512293",
     "status": "completed"
    },
    "tags": []
   },
   "outputs": [
    {
     "data": {
      "text/plain": [
       "quality                 1.000000\n",
       "alcohol                 0.476166\n",
       "sulphates               0.251397\n",
       "citric acid             0.226373\n",
       "fixed acidity           0.124052\n",
       "residual sugar          0.013732\n",
       "free sulfur dioxide    -0.050656\n",
       "pH                     -0.057731\n",
       "chlorides              -0.128907\n",
       "density                -0.174919\n",
       "total sulfur dioxide   -0.185100\n",
       "volatile acidity       -0.390558\n",
       "Name: quality, dtype: float64"
      ]
     },
     "execution_count": 17,
     "metadata": {},
     "output_type": "execute_result"
    },
    {
     "data": {
      "image/png": "[encoded data removed]",
      "text/plain": [
       "<Figure size 864x576 with 2 Axes>"
      ]
     },
     "metadata": {
      "needs_background": "light"
     },
     "output_type": "display_data"
    }
   ],
   "source": [
    "### correlation gives us relation between individual factors and which factor contributing more\n",
    "correlation  = wine.corr()\n",
    "plt.figure(figsize=(12,8))\n",
    "sns.heatmap(correlation,annot = True)       \n",
    "cor = wine.corr()\n",
    "cor['quality'].sort_values(ascending=False)"
   ]
  },
  {
   "cell_type": "markdown",
   "id": "120daf8e",
   "metadata": {
    "papermill": {
     "duration": 0.030538,
     "end_time": "2021-10-05T18:14:31.470139",
     "exception": false,
     "start_time": "2021-10-05T18:14:31.439601",
     "status": "completed"
    },
    "tags": []
   },
   "source": [
    "#### By visualising the data through heatmap, it is clear that Fixed acidity (13%), Citric acid(23%), Sulphates(21%), alcohol(36%) only contribute major part in quality "
   ]
  },
  {
   "cell_type": "code",
   "execution_count": 18,
   "id": "fdceeea4",
   "metadata": {
    "execution": {
     "iopub.execute_input": "2021-10-05T18:14:31.535277Z",
     "iopub.status.busy": "2021-10-05T18:14:31.534526Z",
     "iopub.status.idle": "2021-10-05T18:14:31.544348Z",
     "shell.execute_reply": "2021-10-05T18:14:31.543831Z",
     "shell.execute_reply.started": "2021-10-05T18:12:55.910741Z"
    },
    "papermill": {
     "duration": 0.043876,
     "end_time": "2021-10-05T18:14:31.544465",
     "exception": false,
     "start_time": "2021-10-05T18:14:31.500589",
     "status": "completed"
    },
    "tags": []
   },
   "outputs": [
    {
     "name": "stdout",
     "output_type": "stream",
     "text": [
      "['Worst' 'average' 'best']\n",
      "[0 0 0 ... 1 0 1]\n"
     ]
    }
   ],
   "source": [
    "### Making binary classificaion for the response variable.\n",
    "### Dividing wine as good and bad by giving the limit for the quality\n",
    "from sklearn import preprocessing\n",
    "from sklearn.preprocessing import LabelEncoder\n",
    "quality_range = (2,5,6,8)\n",
    "quality_class = ['Worst','average','best']\n",
    "wine['quality'] = pd.cut(wine['quality'], bins = quality_range, labels = quality_class)\n",
    "LB = LabelEncoder()\n",
    "LB_encoded = LB.fit_transform(wine['quality'])\n",
    "print((LB.classes_))\n",
    "print(LB_encoded)"
   ]
  },
  {
   "cell_type": "code",
   "execution_count": 19,
   "id": "c152ecb9",
   "metadata": {
    "execution": {
     "iopub.execute_input": "2021-10-05T18:14:31.610788Z",
     "iopub.status.busy": "2021-10-05T18:14:31.610095Z",
     "iopub.status.idle": "2021-10-05T18:14:31.617477Z",
     "shell.execute_reply": "2021-10-05T18:14:31.618004Z",
     "shell.execute_reply.started": "2021-10-05T18:12:58.718917Z"
    },
    "papermill": {
     "duration": 0.043035,
     "end_time": "2021-10-05T18:14:31.618173",
     "exception": false,
     "start_time": "2021-10-05T18:14:31.575138",
     "status": "completed"
    },
    "tags": []
   },
   "outputs": [
    {
     "data": {
      "text/plain": [
       "Worst      744\n",
       "average    638\n",
       "best       217\n",
       "Name: quality, dtype: int64"
      ]
     },
     "execution_count": 19,
     "metadata": {},
     "output_type": "execute_result"
    }
   ],
   "source": [
    "wine['quality'].max()\n",
    "wine[\"quality\"].value_counts()"
   ]
  },
  {
   "cell_type": "code",
   "execution_count": 20,
   "id": "11fb1a27",
   "metadata": {
    "execution": {
     "iopub.execute_input": "2021-10-05T18:14:31.710917Z",
     "iopub.status.busy": "2021-10-05T18:14:31.710187Z",
     "iopub.status.idle": "2021-10-05T18:14:31.845731Z",
     "shell.execute_reply": "2021-10-05T18:14:31.846174Z",
     "shell.execute_reply.started": "2021-10-05T18:13:00.753449Z"
    },
    "papermill": {
     "duration": 0.183394,
     "end_time": "2021-10-05T18:14:31.846350",
     "exception": false,
     "start_time": "2021-10-05T18:14:31.662956",
     "status": "completed"
    },
    "tags": []
   },
   "outputs": [
    {
     "data": {
      "text/plain": [
       "<AxesSubplot:xlabel='quality', ylabel='count'>"
      ]
     },
     "execution_count": 20,
     "metadata": {},
     "output_type": "execute_result"
    },
    {
     "data": {
      "image/png": "[encoded data removed]",
      "text/plain": [
       "<Figure size 432x288 with 1 Axes>"
      ]
     },
     "metadata": {
      "needs_background": "light"
     },
     "output_type": "display_data"
    }
   ],
   "source": [
    "seaborn.countplot(wine[\"quality\"])      "
   ]
  },
  {
   "cell_type": "markdown",
   "id": "0baa5107",
   "metadata": {
    "papermill": {
     "duration": 0.031102,
     "end_time": "2021-10-05T18:14:31.913640",
     "exception": false,
     "start_time": "2021-10-05T18:14:31.882538",
     "status": "completed"
    },
    "tags": []
   },
   "source": [
    "#### Splitting data for training "
   ]
  },
  {
   "cell_type": "code",
   "execution_count": 21,
   "id": "981af5ba",
   "metadata": {
    "execution": {
     "iopub.execute_input": "2021-10-05T18:14:31.979235Z",
     "iopub.status.busy": "2021-10-05T18:14:31.978739Z",
     "iopub.status.idle": "2021-10-05T18:14:31.988242Z",
     "shell.execute_reply": "2021-10-05T18:14:31.988679Z",
     "shell.execute_reply.started": "2021-10-05T18:13:07.690754Z"
    },
    "papermill": {
     "duration": 0.04397,
     "end_time": "2021-10-05T18:14:31.988813",
     "exception": false,
     "start_time": "2021-10-05T18:14:31.944843",
     "status": "completed"
    },
    "tags": []
   },
   "outputs": [],
   "source": [
    "from sklearn.model_selection import train_test_split\n",
    "X = wine.drop('quality', axis = 1)\n",
    "Y = wine['quality']\n",
    "X_train, X_test, Y_train, Y_test = train_test_split(X, Y,test_size = 0.3, random_state = 50)"
   ]
  },
  {
   "cell_type": "code",
   "execution_count": 22,
   "id": "bf1a23f9",
   "metadata": {
    "execution": {
     "iopub.execute_input": "2021-10-05T18:14:32.057702Z",
     "iopub.status.busy": "2021-10-05T18:14:32.057184Z",
     "iopub.status.idle": "2021-10-05T18:14:32.058963Z",
     "shell.execute_reply": "2021-10-05T18:14:32.059513Z",
     "shell.execute_reply.started": "2021-10-05T18:13:11.430195Z"
    },
    "papermill": {
     "duration": 0.039256,
     "end_time": "2021-10-05T18:14:32.059665",
     "exception": false,
     "start_time": "2021-10-05T18:14:32.020409",
     "status": "completed"
    },
    "tags": []
   },
   "outputs": [],
   "source": [
    "def get_score(model, X_train, X_test, Y_train, Y_test):\n",
    "    model.fit(X_train, Y_train)\n",
    "    return model.score(X_test, Y_test)"
   ]
  },
  {
   "cell_type": "code",
   "execution_count": 23,
   "id": "0e652661",
   "metadata": {
    "execution": {
     "iopub.execute_input": "2021-10-05T18:14:32.125982Z",
     "iopub.status.busy": "2021-10-05T18:14:32.125456Z",
     "iopub.status.idle": "2021-10-05T18:14:32.133436Z",
     "shell.execute_reply": "2021-10-05T18:14:32.133807Z",
     "shell.execute_reply.started": "2021-10-05T18:13:13.890340Z"
    },
    "papermill": {
     "duration": 0.043106,
     "end_time": "2021-10-05T18:14:32.133966",
     "exception": false,
     "start_time": "2021-10-05T18:14:32.090860",
     "status": "completed"
    },
    "tags": []
   },
   "outputs": [],
   "source": [
    "sc = StandardScaler()\n",
    "X_train = sc.fit_transform(X_train)\n",
    "X_test = sc.fit_transform(X_test)"
   ]
  },
  {
   "cell_type": "markdown",
   "id": "944e5c75",
   "metadata": {
    "papermill": {
     "duration": 0.030692,
     "end_time": "2021-10-05T18:14:32.195687",
     "exception": false,
     "start_time": "2021-10-05T18:14:32.164995",
     "status": "completed"
    },
    "tags": []
   },
   "source": [
    "#### Checking score with Logistic regression"
   ]
  },
  {
   "cell_type": "code",
   "execution_count": 24,
   "id": "ce54d03b",
   "metadata": {
    "execution": {
     "iopub.execute_input": "2021-10-05T18:14:32.265071Z",
     "iopub.status.busy": "2021-10-05T18:14:32.264542Z",
     "iopub.status.idle": "2021-10-05T18:14:32.296497Z",
     "shell.execute_reply": "2021-10-05T18:14:32.297033Z",
     "shell.execute_reply.started": "2021-10-05T18:13:16.900769Z"
    },
    "papermill": {
     "duration": 0.070402,
     "end_time": "2021-10-05T18:14:32.297213",
     "exception": false,
     "start_time": "2021-10-05T18:14:32.226811",
     "status": "completed"
    },
    "tags": []
   },
   "outputs": [
    {
     "name": "stdout",
     "output_type": "stream",
     "text": [
      "0.5875\n"
     ]
    }
   ],
   "source": [
    "import sklearn.linear_model as sk\n",
    "learn = sk.LogisticRegression();          #initializing linear regression model\n",
    "learn.fit(X_train,Y_train);               #training the linear regression model\n",
    "y_predicted = learn.predict(X_test)\n",
    "score = learn.score(X_test,Y_test);       #testing the linear regression model\n",
    "print (score)"
   ]
  },
  {
   "cell_type": "code",
   "execution_count": 36,
   "id": "9ee7705a",
   "metadata": {},
   "outputs": [
    {
     "data": {
      "image/png": "[encoded data removed]",
      "text/plain": [
       "<Figure size 432x288 with 2 Axes>"
      ]
     },
     "metadata": {
      "needs_background": "light"
     },
     "output_type": "display_data"
    }
   ],
   "source": [
    "# confusion Maxtrix\n",
    "cm1 = confusion_matrix(Y_test,y_predicted)\n",
    "sns.heatmap(cm1/np.sum(cm1), annot = True, fmt=  '0.2%', cmap = 'Reds')\n",
    "plt.title(\"Logistic Regression Confusion Matrix\",fontsize=12)\n",
    "plt.show()"
   ]
  },
  {
   "cell_type": "markdown",
   "id": "da0eb3e3",
   "metadata": {
    "papermill": {
     "duration": 0.046608,
     "end_time": "2021-10-05T18:14:32.391092",
     "exception": false,
     "start_time": "2021-10-05T18:14:32.344484",
     "status": "completed"
    },
    "tags": []
   },
   "source": [
    "#### Checking score with SVM"
   ]
  },
  {
   "cell_type": "code",
   "execution_count": 33,
   "id": "958b19eb",
   "metadata": {
    "execution": {
     "iopub.execute_input": "2021-10-05T18:14:32.491768Z",
     "iopub.status.busy": "2021-10-05T18:14:32.489286Z",
     "iopub.status.idle": "2021-10-05T18:14:32.550629Z",
     "shell.execute_reply": "2021-10-05T18:14:32.551122Z",
     "shell.execute_reply.started": "2021-10-05T18:13:19.483404Z"
    },
    "papermill": {
     "duration": 0.112285,
     "end_time": "2021-10-05T18:14:32.551314",
     "exception": false,
     "start_time": "2021-10-05T18:14:32.439029",
     "status": "completed"
    },
    "tags": []
   },
   "outputs": [
    {
     "name": "stdout",
     "output_type": "stream",
     "text": [
      "              precision    recall  f1-score   support\n",
      "\n",
      "       Worst       0.72      0.72      0.72       250\n",
      "     average       0.52      0.57      0.54       173\n",
      "        best       0.56      0.39      0.46        57\n",
      "\n",
      "    accuracy                           0.63       480\n",
      "   macro avg       0.60      0.56      0.57       480\n",
      "weighted avg       0.63      0.63      0.63       480\n",
      "\n"
     ]
    }
   ],
   "source": [
    "SVM = SVC()\n",
    "SVM.fit(X_train,Y_train)\n",
    "SVM.score(X_test,Y_test)\n",
    "\n",
    "pred_SVM = SVM.predict(X_test)\n",
    "score=SVM.score(X_test,Y_test)\n",
    "print(classification_report(Y_test, pred_SVM))"
   ]
  },
  {
   "cell_type": "code",
   "execution_count": 35,
   "id": "c7d226cd",
   "metadata": {},
   "outputs": [
    {
     "data": {
      "image/png": "[encoded data removed]",
      "text/plain": [
       "<Figure size 432x288 with 2 Axes>"
      ]
     },
     "metadata": {
      "needs_background": "light"
     },
     "output_type": "display_data"
    }
   ],
   "source": [
    "# confusion Maxtrix\n",
    "cm2 = confusion_matrix(Y_test, pred_SVM)\n",
    "sns.heatmap(cm2/np.sum(cm2), annot = True, fmt=  '0.2%', cmap = 'Reds')\n",
    "plt.title(\"SVM Classifier Confusion Matrix\",fontsize=12)\n",
    "plt.show()"
   ]
  },
  {
   "cell_type": "markdown",
   "id": "a360edd9",
   "metadata": {
    "papermill": {
     "duration": 0.046807,
     "end_time": "2021-10-05T18:14:32.645551",
     "exception": false,
     "start_time": "2021-10-05T18:14:32.598744",
     "status": "completed"
    },
    "tags": []
   },
   "source": [
    "#### Checking score with Random Forest "
   ]
  },
  {
   "cell_type": "code",
   "execution_count": 26,
   "id": "ba4731df",
   "metadata": {
    "execution": {
     "iopub.execute_input": "2021-10-05T18:14:32.755032Z",
     "iopub.status.busy": "2021-10-05T18:14:32.749947Z",
     "iopub.status.idle": "2021-10-05T18:14:33.045169Z",
     "shell.execute_reply": "2021-10-05T18:14:33.044708Z",
     "shell.execute_reply.started": "2021-10-05T18:13:21.573376Z"
    },
    "papermill": {
     "duration": 0.353139,
     "end_time": "2021-10-05T18:14:33.045288",
     "exception": false,
     "start_time": "2021-10-05T18:14:32.692149",
     "status": "completed"
    },
    "tags": []
   },
   "outputs": [
    {
     "data": {
      "text/plain": [
       "0.725"
      ]
     },
     "execution_count": 26,
     "metadata": {},
     "output_type": "execute_result"
    }
   ],
   "source": [
    "rf = RandomForestClassifier(n_estimators=100)\n",
    "rf.fit(X_train,Y_train)\n",
    "rf.score(X_test,Y_test)"
   ]
  },
  {
   "cell_type": "markdown",
   "id": "ae9338b8",
   "metadata": {
    "papermill": {
     "duration": 0.03246,
     "end_time": "2021-10-05T18:14:33.110369",
     "exception": false,
     "start_time": "2021-10-05T18:14:33.077909",
     "status": "completed"
    },
    "tags": []
   },
   "source": [
    "#### Random Forest Classifier"
   ]
  },
  {
   "cell_type": "code",
   "execution_count": 27,
   "id": "7fd7b2a5",
   "metadata": {
    "execution": {
     "iopub.execute_input": "2021-10-05T18:14:33.180305Z",
     "iopub.status.busy": "2021-10-05T18:14:33.179630Z",
     "iopub.status.idle": "2021-10-05T18:14:33.505457Z",
     "shell.execute_reply": "2021-10-05T18:14:33.504976Z",
     "shell.execute_reply.started": "2021-10-05T18:13:24.630751Z"
    },
    "papermill": {
     "duration": 0.363235,
     "end_time": "2021-10-05T18:14:33.505592",
     "exception": false,
     "start_time": "2021-10-05T18:14:33.142357",
     "status": "completed"
    },
    "tags": []
   },
   "outputs": [
    {
     "name": "stdout",
     "output_type": "stream",
     "text": [
      "              precision    recall  f1-score   support\n",
      "\n",
      "       Worst       0.85      0.80      0.82       250\n",
      "     average       0.65      0.73      0.68       173\n",
      "        best       0.66      0.58      0.62        57\n",
      "\n",
      "    accuracy                           0.75       480\n",
      "   macro avg       0.72      0.70      0.71       480\n",
      "weighted avg       0.75      0.75      0.75       480\n",
      "\n"
     ]
    }
   ],
   "source": [
    "rfc = RandomForestClassifier(n_estimators=100)\n",
    "rfc.fit(X_train, Y_train)\n",
    "pred_rfc = rfc.predict(X_test)\n",
    "score=rfc.score(X_test,Y_test)\n",
    "print(classification_report(Y_test, pred_rfc))"
   ]
  },
  {
   "cell_type": "code",
   "execution_count": 31,
   "id": "fed7f3ec",
   "metadata": {},
   "outputs": [
    {
     "data": {
      "image/png": "[encoded data removed]",
      "text/plain": [
       "<Figure size 432x288 with 2 Axes>"
      ]
     },
     "metadata": {
      "needs_background": "light"
     },
     "output_type": "display_data"
    }
   ],
   "source": [
    "cm3 = confusion_matrix(Y_test, pred_rfc)\n",
    "sns.heatmap(cm3/np.sum(cm3), annot = True, fmt=  '0.2%', cmap = 'Reds')\n",
    "plt.title(\"RandomForest Classifier Confusion Matrix\",fontsize=12)\n",
    "plt.show()"
   ]
  },
  {
   "cell_type": "code",
   "execution_count": null,
   "id": "94e4654c",
   "metadata": {},
   "outputs": [],
   "source": []
  }
 ],
 "metadata": {
  "kernelspec": {
   "display_name": "Python 3",
   "language": "python",
   "name": "python3"
  },
  "language_info": {
   "codemirror_mode": {
    "name": "ipython",
    "version": 3
   },
   "file_extension": ".py",
   "mimetype": "text/x-python",
   "name": "python",
   "nbconvert_exporter": "python",
   "pygments_lexer": "ipython3",
   "version": "3.8.8"
  },
  "papermill": {
   "default_parameters": {},
   "duration": 17.810086,
   "end_time": "2021-10-05T18:14:35.414542",
   "environment_variables": {},
   "exception": null,
   "input_path": "__notebook__.ipynb",
   "output_path": "__notebook__.ipynb",
   "parameters": {},
   "start_time": "2021-10-05T18:14:17.604456",
   "version": "2.3.3"
  }
 },
 "nbformat": 4,
 "nbformat_minor": 5
}
